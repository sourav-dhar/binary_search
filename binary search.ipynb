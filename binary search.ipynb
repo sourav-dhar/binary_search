{
 "cells": [
  {
   "cell_type": "code",
   "execution_count": 1,
   "metadata": {},
   "outputs": [
    {
     "data": {
      "text/plain": [
       "4"
      ]
     },
     "execution_count": 1,
     "metadata": {},
     "output_type": "execute_result"
    }
   ],
   "source": [
    "def mySqrt(x):\n",
    "    if x == 0:\n",
    "        return 0\n",
    "\n",
    "    left, right = 1, x\n",
    "    while left <= right:\n",
    "        mid = (left + right) // 2\n",
    "        if mid * mid > x:\n",
    "            right = mid - 1\n",
    "        else:\n",
    "            left = mid + 1\n",
    "\n",
    "    return right\n",
    "\n",
    "mySqrt(16)"
   ]
  },
  {
   "cell_type": "code",
   "execution_count": 2,
   "metadata": {},
   "outputs": [
    {
     "data": {
      "text/plain": [
       "2"
      ]
     },
     "execution_count": 2,
     "metadata": {},
     "output_type": "execute_result"
    }
   ],
   "source": [
    "def findPeakElement(nums):\n",
    "    left, right = 0, len(nums) - 1\n",
    "\n",
    "    while left < right:\n",
    "        mid = left + (right - left) // 2\n",
    "\n",
    "        if nums[mid] < nums[mid + 1]:\n",
    "            left = mid + 1\n",
    "        else:\n",
    "            right = mid\n",
    "\n",
    "    return left\n",
    "\n",
    "findPeakElement(nums = [1,2,3,1])\n"
   ]
  },
  {
   "cell_type": "code",
   "execution_count": 4,
   "metadata": {},
   "outputs": [
    {
     "data": {
      "text/plain": [
       "4"
      ]
     },
     "execution_count": 4,
     "metadata": {},
     "output_type": "execute_result"
    }
   ],
   "source": [
    "def missingNumber(nums):\n",
    "    left, right = 0, len(nums) - 1\n",
    "\n",
    "    while left <= right:\n",
    "        mid = left + (right - left) // 2\n",
    "\n",
    "        if nums[mid] == mid:\n",
    "            left = mid + 1\n",
    "        else:\n",
    "            right = mid - 1\n",
    "\n",
    "    return left\n",
    "\n",
    "\n",
    "missingNumber([9,6,2,3,5,7,0,1])"
   ]
  },
  {
   "cell_type": "code",
   "execution_count": 5,
   "metadata": {},
   "outputs": [
    {
     "data": {
      "text/plain": [
       "2"
      ]
     },
     "execution_count": 5,
     "metadata": {},
     "output_type": "execute_result"
    }
   ],
   "source": [
    "def findDuplicate(nums):\n",
    "    left, right = 1, len(nums) - 1\n",
    "\n",
    "    while left < right:\n",
    "        mid = left + (right - left) // 2\n",
    "        count = 0\n",
    "\n",
    "        # Count the number of elements less than or equal to mid\n",
    "        for num in nums:\n",
    "            if num <= mid:\n",
    "                count += 1\n",
    "\n",
    "        if count > mid:\n",
    "            right = mid\n",
    "        else:\n",
    "            left = mid + 1\n",
    "\n",
    "    return left\n",
    "nums = [1,3,4,2,2]\n",
    "findDuplicate(nums)"
   ]
  },
  {
   "cell_type": "code",
   "execution_count": null,
   "metadata": {},
   "outputs": [],
   "source": []
  },
  {
   "cell_type": "code",
   "execution_count": 6,
   "metadata": {},
   "outputs": [
    {
     "data": {
      "text/plain": [
       "1"
      ]
     },
     "execution_count": 6,
     "metadata": {},
     "output_type": "execute_result"
    }
   ],
   "source": [
    "def findMin(nums):\n",
    "    left, right = 0, len(nums) - 1\n",
    "\n",
    "    while left < right:\n",
    "        mid = left + (right - left) // 2\n",
    "\n",
    "        if nums[mid] > nums[right]:\n",
    "            left = mid + 1\n",
    "        else:\n",
    "            right = mid\n",
    "\n",
    "    return nums[left]\n",
    "nums = [3,4,5,1,2]\n",
    "findMin(nums)"
   ]
  },
  {
   "cell_type": "code",
   "execution_count": 7,
   "metadata": {},
   "outputs": [
    {
     "data": {
      "text/plain": [
       "[4, 9]"
      ]
     },
     "execution_count": 7,
     "metadata": {},
     "output_type": "execute_result"
    }
   ],
   "source": [
    "def intersection(nums1, nums2):\n",
    "    def binary_search(arr, target):\n",
    "        left, right = 0, len(arr) - 1\n",
    "\n",
    "        while left <= right:\n",
    "            mid = left + (right - left) // 2\n",
    "\n",
    "            if arr[mid] == target:\n",
    "                return True\n",
    "            elif arr[mid] < target:\n",
    "                left = mid + 1\n",
    "            else:\n",
    "                right = mid - 1\n",
    "\n",
    "        return False\n",
    "\n",
    "    nums1.sort()\n",
    "    nums2.sort()\n",
    "    result = []\n",
    "\n",
    "    for num in nums1:\n",
    "        if binary_search(nums2, num) and num not in result:\n",
    "            result.append(num)\n",
    "\n",
    "    return result\n",
    "\n",
    "\n",
    "nums1 = [4,9,5]\n",
    "nums2 = [9,4,9,8,4]\n",
    "intersection(nums1, nums2)"
   ]
  },
  {
   "cell_type": "code",
   "execution_count": 9,
   "metadata": {},
   "outputs": [
    {
     "data": {
      "text/plain": [
       "[-1, -1]"
      ]
     },
     "execution_count": 9,
     "metadata": {},
     "output_type": "execute_result"
    }
   ],
   "source": [
    "def searchRange(nums, target):\n",
    "    def binary_search_left(nums, target):\n",
    "        left, right = 0, len(nums) - 1\n",
    "        index = -1\n",
    "\n",
    "        while left <= right:\n",
    "            mid = left + (right - left) // 2\n",
    "\n",
    "            if nums[mid] >= target:\n",
    "                right = mid - 1\n",
    "                if nums[mid] == target:\n",
    "                    index = mid\n",
    "            else:\n",
    "                left = mid + 1\n",
    "\n",
    "        return index\n",
    "\n",
    "    def binary_search_right(nums, target):\n",
    "        left, right = 0, len(nums) - 1\n",
    "        index = -1\n",
    "\n",
    "        while left <= right:\n",
    "            mid = left + (right - left) // 2\n",
    "\n",
    "            if nums[mid] <= target:\n",
    "                left = mid + 1\n",
    "                if nums[mid] == target:\n",
    "                    index = mid\n",
    "            else:\n",
    "                right = mid - 1\n",
    "\n",
    "        return index\n",
    "\n",
    "    left_index = binary_search_left(nums, target)\n",
    "    right_index = binary_search_right(nums, target)\n",
    "\n",
    "    return [left_index, right_index]\n",
    "\n",
    "\n",
    "nums = [5,7,7,8,8,10]\n",
    "target = 6\n",
    "searchRange(nums, target)"
   ]
  },
  {
   "cell_type": "code",
   "execution_count": 10,
   "metadata": {},
   "outputs": [
    {
     "data": {
      "text/plain": [
       "[2, 2]"
      ]
     },
     "execution_count": 10,
     "metadata": {},
     "output_type": "execute_result"
    }
   ],
   "source": [
    "def intersect(nums1, nums2):\n",
    "    def binary_search(nums, target):\n",
    "        left, right = 0, len(nums) - 1\n",
    "\n",
    "        while left <= right:\n",
    "            mid = left + (right - left) // 2\n",
    "\n",
    "            if nums[mid] == target:\n",
    "                return mid\n",
    "            elif nums[mid] < target:\n",
    "                left = mid + 1\n",
    "            else:\n",
    "                right = mid - 1\n",
    "\n",
    "        return -1\n",
    "\n",
    "    nums1.sort()\n",
    "    nums2.sort()\n",
    "\n",
    "    intersection = []\n",
    "    i = 0\n",
    "\n",
    "    for num in nums1:\n",
    "        index = binary_search(nums2, num)\n",
    "\n",
    "        if index != -1:\n",
    "            intersection.append(num)\n",
    "            nums2.pop(index)\n",
    "\n",
    "    return intersection\n",
    "\n",
    "\n",
    "nums1 = [1,2,2,1]\n",
    "nums2 = [2,2]\n",
    "\n",
    "intersect(nums1, nums2)"
   ]
  },
  {
   "cell_type": "code",
   "execution_count": null,
   "metadata": {},
   "outputs": [],
   "source": []
  }
 ],
 "metadata": {
  "kernelspec": {
   "display_name": "Python 3",
   "language": "python",
   "name": "python3"
  },
  "language_info": {
   "codemirror_mode": {
    "name": "ipython",
    "version": 3
   },
   "file_extension": ".py",
   "mimetype": "text/x-python",
   "name": "python",
   "nbconvert_exporter": "python",
   "pygments_lexer": "ipython3",
   "version": "3.8.5"
  }
 },
 "nbformat": 4,
 "nbformat_minor": 4
}
